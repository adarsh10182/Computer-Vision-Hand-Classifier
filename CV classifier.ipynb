{
 "cells": [
  {
   "cell_type": "code",
   "execution_count": 1,
   "id": "c9f2b275",
   "metadata": {},
   "outputs": [],
   "source": [
    "import mediapipe as mp"
   ]
  },
  {
   "cell_type": "code",
   "execution_count": 2,
   "id": "1ad4de37",
   "metadata": {},
   "outputs": [],
   "source": [
    "import cv2"
   ]
  },
  {
   "cell_type": "code",
   "execution_count": 3,
   "id": "ad9e83bf",
   "metadata": {},
   "outputs": [],
   "source": [
    "mp_drawing=mp.solutions.drawing_utils\n",
    "mp_hands=mp.solutions.hands\n",
    "mp_drawing_styles = mp.solutions.drawing_styles"
   ]
  },
  {
   "cell_type": "code",
   "execution_count": 3,
   "id": "3a900d83",
   "metadata": {},
   "outputs": [],
   "source": [
    "cap = cv2.VideoCapture(\"http://192.168.155.88:8080/video\")\n",
    "while cap.isOpened():\n",
    "    ret, frame = cap.read()\n",
    "    cv2.imshow('Raw Webcam Feed', frame)\n",
    "    \n",
    "    if cv2.waitKey(10) & 0xFF == ord('q'):\n",
    "        break\n",
    "\n",
    "cap.release()\n",
    "cv2.destroyAllWindows()"
   ]
  },
  {
   "cell_type": "code",
   "execution_count": 16,
   "id": "458ca923",
   "metadata": {},
   "outputs": [],
   "source": [
    "cap = cv2.VideoCapture(\"http://192.168.49.139:8080/video\")\n",
    "# Initiate holistic model\n",
    "with mp_hands.Hands(min_detection_confidence=0.5, min_tracking_confidence=0.5) as holistic:\n",
    "    \n",
    "    while(True):\n",
    "        ret, frame = cap.read()\n",
    "        \n",
    "        # Recolor Feed\n",
    "        image = cv2.cvtColor(frame, cv2.COLOR_BGR2RGB)\n",
    "        # Make Detections\n",
    "        results = holistic.process(image)\n",
    "        # print(results.face_landmarks)\n",
    "        \n",
    "        # face_landmarks, pose_landmarks, left_hand_landmarks, right_hand_landmarks\n",
    "        \n",
    "        # Recolor image back to BGR for rendering\n",
    "        image = cv2.cvtColor(image, cv2.COLOR_RGB2BGR)\n",
    "        \n",
    "        \n",
    "        if results.multi_hand_landmarks:\n",
    "              for hand_landmarks in results.multi_hand_landmarks:\n",
    "                mp_drawing.draw_landmarks(\n",
    "                    image,\n",
    "                    hand_landmarks,\n",
    "                    mp_hands.HAND_CONNECTIONS,\n",
    "                    mp_drawing_styles.get_default_hand_landmarks_style(),\n",
    "                    mp_drawing_styles.get_default_hand_connections_style())\n",
    "\n",
    "        \n",
    "        cv2.imshow('Raw Webcam Feed', image)\n",
    "\n",
    "        if cv2.waitKey(10) & 0xFF == ord('q'):\n",
    "            break\n",
    "cap.release()\n",
    "cv2.destroyAllWindows()"
   ]
  },
  {
   "cell_type": "code",
   "execution_count": 116,
   "id": "09ebea18",
   "metadata": {},
   "outputs": [
    {
     "data": {
      "text/plain": [
       "21"
      ]
     },
     "execution_count": 116,
     "metadata": {},
     "output_type": "execute_result"
    }
   ],
   "source": [
    "num_coords=len(results.multi_hand_landmarks[0].landmark)\n",
    "num_coords"
   ]
  },
  {
   "cell_type": "code",
   "execution_count": 117,
   "id": "51cbe850",
   "metadata": {},
   "outputs": [],
   "source": [
    "landmarks = ['class']\n",
    "for val in range(1, num_coords+1):\n",
    "    landmarks += ['x{}'.format(val), 'y{}'.format(val), 'z{}'.format(val)]"
   ]
  },
  {
   "cell_type": "code",
   "execution_count": 118,
   "id": "0d7ec47d",
   "metadata": {},
   "outputs": [],
   "source": [
    "import csv\n",
    "import os\n",
    "import numpy as np"
   ]
  },
  {
   "cell_type": "code",
   "execution_count": 124,
   "id": "d2b5f99e",
   "metadata": {},
   "outputs": [],
   "source": [
    "with open('landmarks.csv', mode='w', newline='') as f:\n",
    "    csv_writer = csv.writer(f, delimiter=',', quotechar='\"', quoting=csv.QUOTE_MINIMAL)\n",
    "    csv_writer.writerow(landmarks)"
   ]
  },
  {
   "cell_type": "code",
   "execution_count": 129,
   "id": "4a665459",
   "metadata": {},
   "outputs": [],
   "source": [
    "class_name=\"Rock\""
   ]
  },
  {
   "cell_type": "code",
   "execution_count": 130,
   "id": "39308cb6",
   "metadata": {},
   "outputs": [],
   "source": [
    "cap = cv2.VideoCapture(0)\n",
    "# Initiate holistic model\n",
    "with mp_hands.Hands(min_detection_confidence=0.5, min_tracking_confidence=0.5) as holistic:\n",
    "    \n",
    "    while(True):\n",
    "        ret, frame = cap.read()\n",
    "        \n",
    "        # Recolor Feed\n",
    "        image = cv2.cvtColor(frame, cv2.COLOR_BGR2RGB)\n",
    "        # Make Detections\n",
    "        results = holistic.process(image)\n",
    "        # print(results.face_landmarks)\n",
    "        \n",
    "        # face_landmarks, pose_landmarks, left_hand_landmarks, right_hand_landmarks\n",
    "        \n",
    "        # Recolor image back to BGR for rendering\n",
    "        image = cv2.cvtColor(image, cv2.COLOR_RGB2BGR)\n",
    "        \n",
    "        \n",
    "        if results.multi_hand_landmarks:\n",
    "              for hand_landmarks in results.multi_hand_landmarks:\n",
    "                mp_drawing.draw_landmarks(\n",
    "                    image,\n",
    "                    hand_landmarks,\n",
    "                    mp_hands.HAND_CONNECTIONS,\n",
    "                    mp_drawing_styles.get_default_hand_landmarks_style(),\n",
    "                    mp_drawing_styles.get_default_hand_connections_style())\n",
    "\n",
    "        \n",
    "        try:# Extract Pose landmarks\n",
    "            hands = results.multi_hand_landmarks[0].landmark\n",
    "            row = list(np.array([[landmark.x, landmark.y, landmark.z] for landmark in hands]).flatten())\n",
    "            row.insert(0, class_name)\n",
    "        \n",
    "        # Export to CSV\n",
    "            with open('landmarks.csv', mode='a', newline='') as f:\n",
    "                csv_writer = csv.writer(f, delimiter=',', quotechar='\"', quoting=csv.QUOTE_MINIMAL)\n",
    "                csv_writer.writerow(row) \n",
    "        except:\n",
    "            pass\n",
    "        \n",
    "        \n",
    "            \n",
    "        cv2.imshow('Raw Webcam Feed', image)\n",
    "\n",
    "        if cv2.waitKey(10) & 0xFF == ord('q'):\n",
    "            break\n",
    "cap.release()\n",
    "cv2.destroyAllWindows()"
   ]
  },
  {
   "cell_type": "code",
   "execution_count": 90,
   "id": "8d5f668f",
   "metadata": {},
   "outputs": [
    {
     "data": {
      "text/plain": [
       "64"
      ]
     },
     "execution_count": 90,
     "metadata": {},
     "output_type": "execute_result"
    }
   ],
   "source": [
    "len(row)"
   ]
  },
  {
   "cell_type": "code",
   "execution_count": 131,
   "id": "45782776",
   "metadata": {},
   "outputs": [],
   "source": [
    "import pandas as pd\n",
    "from sklearn.model_selection import train_test_split\n",
    "df = pd.read_csv('landmarks.csv')\n",
    "X = df.drop('class', axis=1) \n",
    "y = df['class']\n",
    "X_train, X_test, y_train, y_test = train_test_split(X, y, test_size=0.3, random_state=1234)"
   ]
  },
  {
   "cell_type": "code",
   "execution_count": 132,
   "id": "d3de3170",
   "metadata": {},
   "outputs": [
    {
     "data": {
      "text/plain": [
       "class     object\n",
       "x1       float64\n",
       "y1       float64\n",
       "z1       float64\n",
       "x2       float64\n",
       "          ...   \n",
       "y20      float64\n",
       "z20      float64\n",
       "x21      float64\n",
       "y21      float64\n",
       "z21      float64\n",
       "Length: 64, dtype: object"
      ]
     },
     "execution_count": 132,
     "metadata": {},
     "output_type": "execute_result"
    }
   ],
   "source": [
    "df.dtypes"
   ]
  },
  {
   "cell_type": "code",
   "execution_count": 133,
   "id": "10f480f5",
   "metadata": {},
   "outputs": [],
   "source": [
    "import sklearn.pipeline\n",
    "from sklearn.preprocessing import StandardScaler \n",
    "\n",
    "from sklearn.linear_model import LogisticRegression, RidgeClassifier\n",
    "from sklearn.ensemble import RandomForestClassifier, GradientBoostingClassifier"
   ]
  },
  {
   "cell_type": "code",
   "execution_count": 134,
   "id": "27bd47ea",
   "metadata": {},
   "outputs": [],
   "source": [
    "pipelines = {\n",
    "    'lr':make_pipeline(StandardScaler(), LogisticRegression()),\n",
    "    'rc':make_pipeline(StandardScaler(), RidgeClassifier()),\n",
    "    'rf':make_pipeline(StandardScaler(), RandomForestClassifier()),\n",
    "}"
   ]
  },
  {
   "cell_type": "code",
   "execution_count": 135,
   "id": "971aefd8",
   "metadata": {},
   "outputs": [],
   "source": [
    "fit_models = {}\n",
    "for algo, pipeline in pipelines.items():\n",
    "    model = pipeline.fit(X_train,y_train)\n",
    "    fit_models[algo] = model"
   ]
  },
  {
   "cell_type": "code",
   "execution_count": 136,
   "id": "e41af316",
   "metadata": {},
   "outputs": [
    {
     "data": {
      "text/plain": [
       "{'lr': Pipeline(steps=[('standardscaler', StandardScaler()),\n",
       "                 ('logisticregression', LogisticRegression())]),\n",
       " 'rc': Pipeline(steps=[('standardscaler', StandardScaler()),\n",
       "                 ('ridgeclassifier', RidgeClassifier())]),\n",
       " 'rf': Pipeline(steps=[('standardscaler', StandardScaler()),\n",
       "                 ('randomforestclassifier', RandomForestClassifier())])}"
      ]
     },
     "execution_count": 136,
     "metadata": {},
     "output_type": "execute_result"
    }
   ],
   "source": [
    "fit_models"
   ]
  },
  {
   "cell_type": "code",
   "execution_count": 137,
   "id": "52bca1de",
   "metadata": {},
   "outputs": [
    {
     "name": "stdout",
     "output_type": "stream",
     "text": [
      "lr 1.0\n",
      "rc 1.0\n",
      "rf 1.0\n"
     ]
    }
   ],
   "source": [
    "from sklearn.metrics import accuracy_score # Accuracy metrics \n",
    "import pickle \n",
    "for algo, model in fit_models.items():\n",
    "    yhat = model.predict(X_test)\n",
    "    print(algo, accuracy_score(y_test, yhat))"
   ]
  },
  {
   "cell_type": "code",
   "execution_count": 138,
   "id": "6afac892",
   "metadata": {},
   "outputs": [],
   "source": [
    "with open('body_language.pkl', 'wb') as f:\n",
    "    pickle.dump(fit_models['lr'], f)"
   ]
  },
  {
   "cell_type": "code",
   "execution_count": 139,
   "id": "71167097",
   "metadata": {},
   "outputs": [],
   "source": [
    "with open('body_language.pkl', 'rb') as f:\n",
    "    model = pickle.load(f)"
   ]
  },
  {
   "cell_type": "code",
   "execution_count": 140,
   "id": "5a1e9634",
   "metadata": {},
   "outputs": [
    {
     "data": {
      "text/plain": [
       "Pipeline(steps=[('standardscaler', StandardScaler()),\n",
       "                ('logisticregression', LogisticRegression())])"
      ]
     },
     "execution_count": 140,
     "metadata": {},
     "output_type": "execute_result"
    }
   ],
   "source": [
    "model"
   ]
  },
  {
   "cell_type": "code",
   "execution_count": 152,
   "id": "365451fc",
   "metadata": {},
   "outputs": [
    {
     "name": "stdout",
     "output_type": "stream",
     "text": [
      "Paper\n",
      "Paper\n",
      "Rock\n",
      "Rock\n",
      "Scissor\n",
      "Scissor\n",
      "Scissor\n",
      "Paper\n",
      "Paper\n",
      "Paper\n",
      "Paper\n",
      "Paper\n",
      "Paper\n",
      "Paper\n",
      "Paper\n",
      "Paper\n",
      "Paper\n",
      "Paper\n",
      "Paper\n",
      "Paper\n",
      "Paper\n",
      "Paper\n",
      "Paper\n",
      "Paper\n",
      "Paper\n",
      "Paper\n",
      "Paper\n",
      "Paper\n",
      "Paper\n",
      "Paper\n",
      "Paper\n",
      "Paper\n",
      "Paper\n",
      "Paper\n",
      "Paper\n",
      "Paper\n",
      "Paper\n",
      "Scissor\n",
      "Scissor\n",
      "Scissor\n",
      "Scissor\n",
      "Paper\n",
      "Scissor\n",
      "Scissor\n",
      "Scissor\n",
      "Scissor\n",
      "Scissor\n",
      "Scissor\n",
      "Scissor\n",
      "Scissor\n",
      "Scissor\n",
      "Scissor\n",
      "Scissor\n",
      "Paper\n",
      "Paper\n",
      "Paper\n",
      "Paper\n",
      "Paper\n",
      "Paper\n",
      "Paper\n",
      "Paper\n",
      "Paper\n",
      "Scissor\n",
      "Scissor\n",
      "Scissor\n",
      "Scissor\n",
      "Scissor\n",
      "Scissor\n",
      "Paper\n",
      "Rock\n",
      "Rock\n",
      "Rock\n",
      "Rock\n",
      "Rock\n",
      "Rock\n",
      "Rock\n",
      "Scissor\n",
      "Scissor\n",
      "Scissor\n",
      "Scissor\n",
      "Scissor\n",
      "Scissor\n",
      "Scissor\n",
      "Scissor\n",
      "Paper\n",
      "Paper\n",
      "Paper\n",
      "Paper\n",
      "Paper\n",
      "Paper\n",
      "Scissor\n",
      "Scissor\n",
      "Scissor\n",
      "Scissor\n",
      "Scissor\n",
      "Scissor\n",
      "Scissor\n",
      "Scissor\n",
      "Rock\n",
      "Rock\n",
      "Rock\n",
      "Rock\n",
      "Rock\n",
      "Rock\n",
      "Scissor\n",
      "Scissor\n",
      "Scissor\n",
      "Scissor\n",
      "Scissor\n",
      "Paper\n",
      "Paper\n",
      "Paper\n",
      "Paper\n",
      "Paper\n",
      "Paper\n",
      "Scissor\n",
      "Scissor\n",
      "Scissor\n",
      "Scissor\n",
      "Scissor\n",
      "Scissor\n",
      "Rock\n",
      "Rock\n",
      "Rock\n",
      "Rock\n",
      "Rock\n",
      "Rock\n",
      "Rock\n",
      "Rock\n",
      "Rock\n",
      "Rock\n",
      "Rock\n",
      "Rock\n",
      "Rock\n",
      "Rock\n",
      "Rock\n",
      "Rock\n",
      "Rock\n",
      "Rock\n",
      "Rock\n",
      "Rock\n",
      "Rock\n",
      "Rock\n",
      "Rock\n",
      "Rock\n",
      "Rock\n",
      "Rock\n",
      "Rock\n",
      "Rock\n",
      "Rock\n",
      "Rock\n",
      "Scissor\n",
      "Scissor\n",
      "Scissor\n",
      "Scissor\n",
      "Scissor\n",
      "Scissor\n",
      "Scissor\n",
      "Scissor\n",
      "Scissor\n",
      "Scissor\n",
      "Scissor\n",
      "Scissor\n",
      "Scissor\n",
      "Paper\n",
      "Paper\n",
      "Paper\n",
      "Paper\n",
      "Paper\n",
      "Paper\n",
      "Paper\n",
      "Paper\n",
      "Paper\n",
      "Paper\n",
      "Paper\n",
      "Scissor\n",
      "Scissor\n",
      "Scissor\n",
      "Scissor\n",
      "Scissor\n",
      "Scissor\n",
      "Scissor\n",
      "Rock\n",
      "Rock\n",
      "Rock\n",
      "Rock\n",
      "Rock\n",
      "Rock\n",
      "Rock\n",
      "Rock\n",
      "Scissor\n",
      "Scissor\n",
      "Scissor\n",
      "Scissor\n",
      "Scissor\n",
      "Scissor\n",
      "Scissor\n",
      "Scissor\n",
      "Scissor\n",
      "Scissor\n",
      "Scissor\n",
      "Scissor\n",
      "Scissor\n",
      "Scissor\n",
      "Scissor\n",
      "Rock\n",
      "Rock\n",
      "Rock\n",
      "Rock\n",
      "Rock\n",
      "Rock\n",
      "Rock\n",
      "Rock\n",
      "Rock\n",
      "Rock\n",
      "Paper\n",
      "Paper\n",
      "Paper\n",
      "Paper\n",
      "Paper\n",
      "Paper\n",
      "Paper\n",
      "Paper\n",
      "Paper\n",
      "Paper\n",
      "Paper\n",
      "Scissor\n",
      "Scissor\n",
      "Scissor\n",
      "Scissor\n",
      "Scissor\n",
      "Scissor\n",
      "Scissor\n",
      "Rock\n",
      "Rock\n",
      "Rock\n",
      "Rock\n",
      "Rock\n",
      "Rock\n",
      "Rock\n",
      "Rock\n",
      "Rock\n",
      "Rock\n",
      "Rock\n",
      "Rock\n",
      "Rock\n",
      "Rock\n",
      "Scissor\n"
     ]
    }
   ],
   "source": [
    "cap = cv2.VideoCapture(0)\n",
    "# Initiate holistic model\n",
    "with mp_hands.Hands(min_detection_confidence=0.5, min_tracking_confidence=0.5) as holistic:\n",
    "    \n",
    "    while(True):\n",
    "        ret, frame = cap.read()\n",
    "        \n",
    "        # Recolor Feed\n",
    "        image = cv2.cvtColor(frame, cv2.COLOR_BGR2RGB)\n",
    "        # Make Detections\n",
    "        results = holistic.process(image)\n",
    "        # print(results.face_landmarks)\n",
    "        \n",
    "        # face_landmarks, pose_landmarks, left_hand_landmarks, right_hand_landmarks\n",
    "        \n",
    "        # Recolor image back to BGR for rendering\n",
    "        image = cv2.cvtColor(image, cv2.COLOR_RGB2BGR)\n",
    "        \n",
    "        \n",
    "        if results.multi_hand_landmarks:\n",
    "              for hand_landmarks in results.multi_hand_landmarks:\n",
    "                mp_drawing.draw_landmarks(\n",
    "                    image,\n",
    "                    hand_landmarks,\n",
    "                    mp_hands.HAND_CONNECTIONS,\n",
    "                    mp_drawing_styles.get_default_hand_landmarks_style(),\n",
    "                    mp_drawing_styles.get_default_hand_connections_style())\n",
    "\n",
    "        \n",
    "        try:\n",
    "            hands = results.multi_hand_landmarks[0].landmark\n",
    "            row = list(np.array([[landmark.x, landmark.y, landmark.z] for landmark in hands]).flatten())\n",
    "        \n",
    "        \n",
    "            X = pd.DataFrame([row])\n",
    "            body_language_class = model.predict(X)[0]\n",
    "            body_language_prob = model.predict_proba(X)[0]\n",
    "            \n",
    "            \n",
    "            cv2.putText(image, body_language_class, (10,450),cv2.FONT_HERSHEY_SIMPLEX, 3, (0, 0, 0), 2, cv2.LINE_AA)\n",
    "            \n",
    "            print(body_language_class)\n",
    "        except:\n",
    "            pass\n",
    "       \n",
    "        cv2.imshow('Raw Webcam Feed', image)\n",
    "\n",
    "        if cv2.waitKey(10) & 0xFF == ord('q'):\n",
    "            break\n",
    "cap.release()\n",
    "cv2.destroyAllWindows()"
   ]
  },
  {
   "cell_type": "code",
   "execution_count": 142,
   "id": "dc492009",
   "metadata": {},
   "outputs": [],
   "source": [
    "mp_hands??"
   ]
  },
  {
   "cell_type": "code",
   "execution_count": null,
   "id": "5e329786",
   "metadata": {},
   "outputs": [],
   "source": []
  }
 ],
 "metadata": {
  "kernelspec": {
   "display_name": "Python 3",
   "language": "python",
   "name": "python3"
  },
  "language_info": {
   "codemirror_mode": {
    "name": "ipython",
    "version": 3
   },
   "file_extension": ".py",
   "mimetype": "text/x-python",
   "name": "python",
   "nbconvert_exporter": "python",
   "pygments_lexer": "ipython3",
   "version": "3.8.8"
  }
 },
 "nbformat": 4,
 "nbformat_minor": 5
}
